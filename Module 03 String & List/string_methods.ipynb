{
 "cells": [
  {
   "cell_type": "code",
   "execution_count": 8,
   "id": "a8db2a82-9563-447a-b7cd-26b2ced92aa6",
   "metadata": {},
   "outputs": [
    {
     "name": "stdout",
     "output_type": "stream",
     "text": [
      "welcome to dhaka, bangladesh. dhaka\n",
      "WELCOME TO DHAKA, BANGLADESH. DHAKA\n",
      "35\n",
      "True\n",
      "11\n",
      "30\n",
      "30\n",
      "2\n",
      "welcome to sylhet, bangladesh. sylhet\n"
     ]
    }
   ],
   "source": [
    "string = \"Welcome to Dhaka, Bangladesh. Dhaka\"\n",
    "processed_string_lowercase = string.lower()\n",
    "processed_string_uppercase = string.upper()\n",
    "\n",
    "print(processed_string_lowercase)\n",
    "print(processed_string_uppercase)\n",
    "\n",
    "# length\n",
    "print(len(string))\n",
    "\n",
    "# find a word\n",
    "print( \"Dhaka\" in string)\n",
    "\n",
    "# index of a substring\n",
    "index = processed_string_lowercase.find(\"dhaka\")\n",
    "print(index)\n",
    "\n",
    "# index of a substring when from last\n",
    "index = processed_string_lowercase.rfind(\"dhaka\")\n",
    "print(index)\n",
    "\n",
    "# index of a substring when from last\n",
    "index = processed_string_lowercase.rfind(\"dhaka\")\n",
    "print(index)\n",
    "\n",
    "# count of substring\n",
    "count = processed_string_lowercase.count(\"dhaka\")\n",
    "print(count)\n",
    "\n",
    "# replace a substring\n",
    "new_string = processed_string_lowercase.replace(\"dhaka\", \"sylhet\")\n",
    "print(new_string)\n"
   ]
  },
  {
   "cell_type": "code",
   "execution_count": null,
   "id": "8b81450a-1e97-4f65-828f-4bd03893faa5",
   "metadata": {},
   "outputs": [],
   "source": []
  }
 ],
 "metadata": {
  "kernelspec": {
   "display_name": "Python 3 (ipykernel)",
   "language": "python",
   "name": "python3"
  },
  "language_info": {
   "codemirror_mode": {
    "name": "ipython",
    "version": 3
   },
   "file_extension": ".py",
   "mimetype": "text/x-python",
   "name": "python",
   "nbconvert_exporter": "python",
   "pygments_lexer": "ipython3",
   "version": "3.13.5"
  }
 },
 "nbformat": 4,
 "nbformat_minor": 5
}
