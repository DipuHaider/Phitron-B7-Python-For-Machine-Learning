{
 "cells": [
  {
   "cell_type": "code",
   "execution_count": 1,
   "id": "a51afc80-0179-4f83-ba8d-a7ae9e12cfa0",
   "metadata": {},
   "outputs": [
    {
     "name": "stdout",
     "output_type": "stream",
     "text": [
      "Hello\n"
     ]
    }
   ],
   "source": [
    "print(\"Hello\")"
   ]
  },
  {
   "cell_type": "code",
   "execution_count": 2,
   "id": "0a93f40d-1fea-4eaf-b42c-ef086c8baea7",
   "metadata": {},
   "outputs": [
    {
     "name": "stdout",
     "output_type": "stream",
     "text": [
      "What  is your name?\n",
      "<class 'str'>\n"
     ]
    }
   ],
   "source": [
    "prompt = \"What  is your name?\"\n",
    "\n",
    "print(prompt)\n",
    "print(type(prompt))"
   ]
  },
  {
   "cell_type": "code",
   "execution_count": 3,
   "id": "de509fc0-59d6-44ed-b71b-8a08d658c746",
   "metadata": {},
   "outputs": [
    {
     "name": "stdout",
     "output_type": "stream",
     "text": [
      " Hello,\n",
      "How are you?\n",
      "What's the issue?\n",
      "\n"
     ]
    }
   ],
   "source": [
    "message = \"\"\" Hello,\n",
    "How are you?\n",
    "What's the issue?\n",
    "\"\"\"\n",
    "\n",
    "print(message)"
   ]
  },
  {
   "cell_type": "markdown",
   "id": "009485c9-0617-4d2f-909d-ef3ae2230c3b",
   "metadata": {},
   "source": [
    "### Indexing and Slicing"
   ]
  },
  {
   "cell_type": "code",
   "execution_count": 4,
   "id": "2c6a61d5-e22f-47e5-a34f-c029e7940af9",
   "metadata": {},
   "outputs": [
    {
     "name": "stdout",
     "output_type": "stream",
     "text": [
      "H\n"
     ]
    }
   ],
   "source": [
    "string = \"Hello world\"\n",
    "print(string[0])"
   ]
  },
  {
   "cell_type": "code",
   "execution_count": 8,
   "id": "838e00c3-845f-497f-81f1-74735d472610",
   "metadata": {},
   "outputs": [
    {
     "name": "stdout",
     "output_type": "stream",
     "text": [
      " Hello,\n",
      "How ar\n",
      " el,Hwa\n",
      "r\n",
      "a\n",
      " \n"
     ]
    }
   ],
   "source": [
    "first_message = message[0: 14]\n",
    "second_message = message[0: 14: 2]\n",
    "\n",
    "print(first_message)\n",
    "print(second_message)\n",
    "print(first_message[-1])\n",
    "print(first_message[-2])\n",
    "print(first_message[-3])"
   ]
  },
  {
   "cell_type": "code",
   "execution_count": null,
   "id": "ba61ad31-94fd-4ae5-ad2c-a74a8c0490d6",
   "metadata": {},
   "outputs": [],
   "source": []
  }
 ],
 "metadata": {
  "kernelspec": {
   "display_name": "Python 3 (ipykernel)",
   "language": "python",
   "name": "python3"
  },
  "language_info": {
   "codemirror_mode": {
    "name": "ipython",
    "version": 3
   },
   "file_extension": ".py",
   "mimetype": "text/x-python",
   "name": "python",
   "nbconvert_exporter": "python",
   "pygments_lexer": "ipython3",
   "version": "3.13.5"
  }
 },
 "nbformat": 4,
 "nbformat_minor": 5
}
