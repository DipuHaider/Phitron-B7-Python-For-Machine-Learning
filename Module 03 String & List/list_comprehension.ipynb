{
 "cells": [
  {
   "cell_type": "code",
   "execution_count": 6,
   "id": "2f7f7a29-5b94-437e-ac12-07d1e039a9e8",
   "metadata": {},
   "outputs": [
    {
     "name": "stdout",
     "output_type": "stream",
     "text": [
      "[4, 8, 12, 16, 20, 24, 28, 32, 36, 40, 44, 48, 52, 56, 60, 64, 68, 72, 76, 80, 84, 88, 92, 96, 100, 104, 108, 112, 116, 120, 124, 128, 132, 136, 140, 144, 148, 152, 156, 160, 164, 168, 172, 176, 180, 184, 188, 192, 196, 200]\n"
     ]
    }
   ],
   "source": [
    "# naive approach\n",
    "# even = []\n",
    "# for i in range(100):\n",
    "#     if i%2==0:\n",
    "#         even.append(i)\n",
    "\n",
    "# print(even)\n",
    "\n",
    "random_list = [x*2 for x in range (1,101) if x%2==0]\n",
    "print(random_list)"
   ]
  },
  {
   "cell_type": "code",
   "execution_count": 12,
   "id": "622d5124-8f2f-4c5c-8f10-3472c8284e9f",
   "metadata": {},
   "outputs": [
    {
     "name": "stdout",
     "output_type": "stream",
     "text": [
      "['apple', 'orange', 'lichi']\n",
      "Apple\n",
      "orange\n",
      "LIChi\n",
      "['Apple', 'Orange', 'Lichi']\n",
      "['APPLE', 'ORANGE', 'LICHI']\n"
     ]
    }
   ],
   "source": [
    "fruits = ['Apple', 'orange', 'LIChi']\n",
    "\n",
    "capitalize_fruits=[]\n",
    "upper_fruits=[]\n",
    "lower_fruits=[fruit.lower() for fruit in fruits]\n",
    "print(lower_fruits)\n",
    "\n",
    "for fruit in fruits:\n",
    "    print(fruit)\n",
    "    capitalize_fruits.append(fruit.capitalize())\n",
    "    upper_fruits.append(fruit.upper())\n",
    "\n",
    "print(capitalize_fruits)\n",
    "print(upper_fruits)"
   ]
  },
  {
   "cell_type": "code",
   "execution_count": null,
   "id": "bc1fd35d-03eb-49c7-af6f-480cb2217d61",
   "metadata": {},
   "outputs": [],
   "source": []
  }
 ],
 "metadata": {
  "kernelspec": {
   "display_name": "Python 3 (ipykernel)",
   "language": "python",
   "name": "python3"
  },
  "language_info": {
   "codemirror_mode": {
    "name": "ipython",
    "version": 3
   },
   "file_extension": ".py",
   "mimetype": "text/x-python",
   "name": "python",
   "nbconvert_exporter": "python",
   "pygments_lexer": "ipython3",
   "version": "3.13.5"
  }
 },
 "nbformat": 4,
 "nbformat_minor": 5
}
