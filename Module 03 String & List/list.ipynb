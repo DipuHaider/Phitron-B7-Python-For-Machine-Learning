{
 "cells": [
  {
   "cell_type": "code",
   "execution_count": 13,
   "id": "a7021754-52c0-4c76-956b-8e8656640076",
   "metadata": {},
   "outputs": [
    {
     "name": "stdout",
     "output_type": "stream",
     "text": [
      "<class 'list'>\n",
      "[10, 14, 34]\n",
      "14\n",
      "100\n",
      "99\n",
      "[99, 23, 562]\n"
     ]
    }
   ],
   "source": [
    "# declaration\n",
    "numbers = [100,23,562,54,13,255]\n",
    "print(type(numbers))\n",
    "float_numbers = [1.0,23.233,56.2,5.004,1.3,25.5]\n",
    "fruits = [\"apple\", \"orange\", \"lichi\"]\n",
    "mix = [10, 10.34, \"apple\"]\n",
    "\n",
    "\n",
    "list_inside_list = [[10, 14, 34], [934.3, 343, 34]]\n",
    "print(list_inside_list[0])\n",
    "print(list_inside_list[0][1])\n",
    "\n",
    "# access\n",
    "print(numbers[0])\n",
    "\n",
    "numbers[0] = 99  ##list values are mutable\n",
    "print(numbers[0])\n",
    "\n",
    "new_list = numbers[0:3]\n",
    "print(new_list)\n"
   ]
  },
  {
   "cell_type": "code",
   "execution_count": 11,
   "id": "331f10a3-4410-4ad8-b882-37d0fe762802",
   "metadata": {},
   "outputs": [
    {
     "name": "stdout",
     "output_type": "stream",
     "text": [
      "[55, 55, 55, 99, 23, 562, 54, 13, 255, 44, 44, 44, 44]\n",
      "[55, 55, 55, 55, 99, 23, 562, 54, 13, 255, 44, 44, 44, 44]\n",
      "[55, 55, 55, 55, 99, 23, 562, 54, 13, 255, 44, 44, 44]\n",
      "[55, 55, 55, 99, 23, 562, 54, 13, 255, 44, 44, 44]\n"
     ]
    }
   ],
   "source": [
    "# modification\n",
    "# adding an item\n",
    "numbers.append(44)\n",
    "print(numbers)\n",
    "\n",
    "# adding an item in specific index\n",
    "numbers.insert(0,55)\n",
    "print(numbers)\n",
    "\n",
    "# deleting an item\n",
    "numbers.pop()\n",
    "print(numbers)\n",
    "\n",
    "# deleting a specific value\n",
    "numbers.remove(55)\n",
    "print(numbers)"
   ]
  },
  {
   "cell_type": "code",
   "execution_count": 20,
   "id": "f3bb0676-7134-41ae-be9e-4bbb06a16f54",
   "metadata": {},
   "outputs": [
    {
     "name": "stdout",
     "output_type": "stream",
     "text": [
      "[13, 23, 54, 100, 255, 562]\n",
      "[562, 255, 100, 54, 23, 13]\n",
      "[562, 255, 100, 54, 23, 13]\n"
     ]
    }
   ],
   "source": [
    "# sort\n",
    "numbers_1 = [100,23,562,54,13,255]\n",
    "numbers_1.sort()\n",
    "print(numbers_1)\n",
    "numbers_1.reverse()\n",
    "print(numbers_1)\n",
    "\n",
    "numbers_2 = [100,23,562,54,13,255]\n",
    "numbers_2.sort(reverse=True)\n",
    "print(numbers_2)"
   ]
  },
  {
   "cell_type": "code",
   "execution_count": null,
   "id": "19339dfe-b94d-4e11-b6dd-d1d7ec7afe8b",
   "metadata": {},
   "outputs": [],
   "source": []
  }
 ],
 "metadata": {
  "kernelspec": {
   "display_name": "Python 3 (ipykernel)",
   "language": "python",
   "name": "python3"
  },
  "language_info": {
   "codemirror_mode": {
    "name": "ipython",
    "version": 3
   },
   "file_extension": ".py",
   "mimetype": "text/x-python",
   "name": "python",
   "nbconvert_exporter": "python",
   "pygments_lexer": "ipython3",
   "version": "3.13.5"
  }
 },
 "nbformat": 4,
 "nbformat_minor": 5
}
