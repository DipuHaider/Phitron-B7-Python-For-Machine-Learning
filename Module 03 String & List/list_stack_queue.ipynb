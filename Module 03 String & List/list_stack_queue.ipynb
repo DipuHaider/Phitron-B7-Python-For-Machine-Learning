{
 "cells": [
  {
   "cell_type": "code",
   "execution_count": 9,
   "id": "50027569-50df-4ff8-81b3-d96037777957",
   "metadata": {},
   "outputs": [
    {
     "name": "stdout",
     "output_type": "stream",
     "text": [
      "[1, 2, 3, 4, 5]\n",
      "5\n",
      "4\n",
      "3\n",
      "top element : 2\n",
      "2\n"
     ]
    }
   ],
   "source": [
    "# stack as list\n",
    "stack = []\n",
    "\n",
    "# insertion\n",
    "stack.append(1)\n",
    "stack.append(2)\n",
    "stack.append(3)\n",
    "stack.append(4)\n",
    "stack.append(5)\n",
    "\n",
    "print(stack)\n",
    "\n",
    "## getting the top element\n",
    "print(stack.pop())\n",
    "print(stack.pop())\n",
    "print(stack.pop())\n",
    "\n",
    "\n",
    "print(f\"top element : {stack[-1]}\")\n",
    "# removing the top element\n",
    "print(stack.pop())\n",
    "\n"
   ]
  },
  {
   "cell_type": "code",
   "execution_count": 7,
   "id": "8696b2ba-232b-4d1d-a1c0-c994600b1e66",
   "metadata": {},
   "outputs": [
    {
     "name": "stdout",
     "output_type": "stream",
     "text": [
      "1\n",
      "front e 2\n",
      "2\n",
      "front e 3\n"
     ]
    }
   ],
   "source": [
    "# queue as list\n",
    "queue = []\n",
    "\n",
    "# insertion\n",
    "queue.append(1)\n",
    "queue.append(2)\n",
    "queue.append(3)\n",
    "queue.append(4)\n",
    "queue.append(5)\n",
    "\n",
    "# remove\n",
    "print(queue.pop(0))\n",
    "\n",
    "# accessing the front element\n",
    "print(f\"front e {queue[0]}\")\n",
    "\n",
    "# remove\n",
    "print(queue.pop(0))\n",
    "\n",
    "# accessing the front element\n",
    "print(f\"front e {queue[0]}\")\n"
   ]
  },
  {
   "cell_type": "code",
   "execution_count": null,
   "id": "8b7eac7f-5bc8-4586-b611-d86458db7b1c",
   "metadata": {},
   "outputs": [],
   "source": []
  }
 ],
 "metadata": {
  "kernelspec": {
   "display_name": "Python 3 (ipykernel)",
   "language": "python",
   "name": "python3"
  },
  "language_info": {
   "codemirror_mode": {
    "name": "ipython",
    "version": 3
   },
   "file_extension": ".py",
   "mimetype": "text/x-python",
   "name": "python",
   "nbconvert_exporter": "python",
   "pygments_lexer": "ipython3",
   "version": "3.13.5"
  }
 },
 "nbformat": 4,
 "nbformat_minor": 5
}
