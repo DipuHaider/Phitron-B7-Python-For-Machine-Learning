{
 "cells": [
  {
   "cell_type": "code",
   "execution_count": 13,
   "id": "232fcacc-6976-49b5-88a1-fac1a4753e2f",
   "metadata": {},
   "outputs": [
    {
     "name": "stdout",
     "output_type": "stream",
     "text": [
      "['What', 'is', 'Python', '?']\n",
      "['What', 'is', 'Python', '?']\n",
      "What-is-Python-?\n",
      "His name is ADIOS. He is 25 years old. his height is 6.23\n",
      "model accuracy is 87.65%\n",
      "model accuracy is    0.87654\n"
     ]
    }
   ],
   "source": [
    "## Splitting\n",
    "prompt = \"What is Python ?\"\n",
    "prompt_with_ = \"What,is,Python,?\"\n",
    "tokens = prompt.split()\n",
    "tokens_with_ = prompt_with_.split(\",\")\n",
    "\n",
    "print(tokens)\n",
    "print(tokens_with_)\n",
    "\n",
    "## Joining\n",
    "sentence = \"-\".join(tokens)\n",
    "print(sentence)\n",
    "\n",
    "## formatted string\n",
    "name = \"Adios\"\n",
    "age = 25\n",
    "height = 6.23234\n",
    "\n",
    "info = f\"His name is {name.upper()}. He is {age} years old. his height is {height:.3}\"\n",
    "print(info)\n",
    "\n",
    "\n",
    "model_accuracy = 0.87654\n",
    "print(f\"model accuracy is {model_accuracy:.2%}\")\n",
    "print(f\"model accuracy is {model_accuracy:10}\")"
   ]
  },
  {
   "cell_type": "code",
   "execution_count": null,
   "id": "8479d2b0-31e3-4463-bec2-232e4f1dfd79",
   "metadata": {},
   "outputs": [],
   "source": []
  }
 ],
 "metadata": {
  "kernelspec": {
   "display_name": "Python 3 (ipykernel)",
   "language": "python",
   "name": "python3"
  },
  "language_info": {
   "codemirror_mode": {
    "name": "ipython",
    "version": 3
   },
   "file_extension": ".py",
   "mimetype": "text/x-python",
   "name": "python",
   "nbconvert_exporter": "python",
   "pygments_lexer": "ipython3",
   "version": "3.13.5"
  }
 },
 "nbformat": 4,
 "nbformat_minor": 5
}
