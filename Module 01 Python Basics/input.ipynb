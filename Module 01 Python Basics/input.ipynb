{
 "cells": [
  {
   "cell_type": "code",
   "execution_count": 3,
   "id": "adcc2dd6",
   "metadata": {},
   "outputs": [
    {
     "name": "stdout",
     "output_type": "stream",
     "text": [
      "polk\n",
      "20 <class 'str'>\n"
     ]
    }
   ],
   "source": [
    "name = input(\"Whats is your name?\")\n",
    "\n",
    "print(name)\n",
    "\n",
    "age = input(\"Whats is your age?\")\n",
    "\n",
    "print(age, type(age))\n"
   ]
  },
  {
   "cell_type": "code",
   "execution_count": 4,
   "id": "03809581",
   "metadata": {},
   "outputs": [
    {
     "name": "stdout",
     "output_type": "stream",
     "text": [
      "23 <class 'int'>\n"
     ]
    }
   ],
   "source": [
    "age = input(\"Whats is your age?\")  #string input\n",
    "\n",
    "age = int(age)  #string convert to integer, typecasting\n",
    "\n",
    "print(age, type(age))"
   ]
  },
  {
   "cell_type": "code",
   "execution_count": 5,
   "id": "c9df0356",
   "metadata": {},
   "outputs": [
    {
     "name": "stdout",
     "output_type": "stream",
     "text": [
      "2.3 <class 'float'>\n"
     ]
    }
   ],
   "source": [
    "height = float(input(\"Whats is your height?\"))  #string input\n",
    "\n",
    "print(height, type(height))"
   ]
  }
 ],
 "metadata": {
  "kernelspec": {
   "display_name": "Python 3",
   "language": "python",
   "name": "python3"
  },
  "language_info": {
   "codemirror_mode": {
    "name": "ipython",
    "version": 3
   },
   "file_extension": ".py",
   "mimetype": "text/x-python",
   "name": "python",
   "nbconvert_exporter": "python",
   "pygments_lexer": "ipython3",
   "version": "3.13.7"
  }
 },
 "nbformat": 4,
 "nbformat_minor": 5
}
