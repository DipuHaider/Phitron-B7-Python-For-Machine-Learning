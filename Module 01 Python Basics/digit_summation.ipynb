{
 "cells": [
  {
   "cell_type": "code",
   "execution_count": 2,
   "id": "f83d3759",
   "metadata": {},
   "outputs": [
    {
     "name": "stdout",
     "output_type": "stream",
     "text": [
      "4\n"
     ]
    }
   ],
   "source": [
    "x = int(input())\n",
    "y = int(input())\n",
    "\n",
    "last_digit_of_x = x % 10\n",
    "last_digit_of_y = y % 10\n",
    "\n",
    "sum = last_digit_of_x + last_digit_of_y\n",
    "\n",
    "print(sum)"
   ]
  },
  {
   "cell_type": "code",
   "execution_count": 7,
   "id": "97f6416b",
   "metadata": {},
   "outputs": [
    {
     "name": "stdout",
     "output_type": "stream",
     "text": [
      "6\n"
     ]
    }
   ],
   "source": [
    "inp = input()\n",
    "\n",
    "numbers = inp.split()\n",
    "\n",
    "x = int(numbers[0])\n",
    "\n",
    "y = int(numbers[1])\n",
    "\n",
    "last_digit_of_x = x % 10\n",
    "last_digit_of_y = y % 10\n",
    "\n",
    "sum = last_digit_of_x + last_digit_of_y\n",
    "\n",
    "print(sum)\n",
    "\n",
    "\n"
   ]
  }
 ],
 "metadata": {
  "kernelspec": {
   "display_name": "Python 3",
   "language": "python",
   "name": "python3"
  },
  "language_info": {
   "codemirror_mode": {
    "name": "ipython",
    "version": 3
   },
   "file_extension": ".py",
   "mimetype": "text/x-python",
   "name": "python",
   "nbconvert_exporter": "python",
   "pygments_lexer": "ipython3",
   "version": "3.13.7"
  }
 },
 "nbformat": 4,
 "nbformat_minor": 5
}
