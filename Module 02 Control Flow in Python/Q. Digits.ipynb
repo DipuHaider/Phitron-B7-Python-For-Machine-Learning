{
 "cells": [
  {
   "cell_type": "code",
   "execution_count": null,
   "id": "8acd87aa",
   "metadata": {},
   "outputs": [
    {
     "name": "stdout",
     "output_type": "stream",
     "text": [
      "3 2 1 \n",
      "4 3 2 \n",
      "5 4 3 \n"
     ]
    }
   ],
   "source": [
    "t = int(input())\n",
    "\n",
    "for i in range(t):\n",
    "    number = int(input())\n",
    "    if number == 0 :\n",
    "        print(0)\n",
    "        continue\n",
    "    while number > 0 :\n",
    "        print(number%10, end=\" \")\n",
    "        #number=int(number/10)\n",
    "        number//=10\n",
    "    print()\n",
    "\n",
    "\n",
    "## https://codeforces.com/group/MWSDmqGsZm/contest/219432/problem/Q\n",
    "\n",
    "# Input\n",
    "# 4\n",
    "# 121\n",
    "# 39\n",
    "# 123456\n",
    "# 1200\n",
    "\n",
    "# Output\n",
    "# 1 2 1\n",
    "# 9 3\n",
    "# 6 5 4 3 2 1\n",
    "# 0 0 2 1"
   ]
  },
  {
   "cell_type": "code",
   "execution_count": null,
   "id": "a5c5190f",
   "metadata": {},
   "outputs": [],
   "source": []
  }
 ],
 "metadata": {
  "kernelspec": {
   "display_name": "Python 3",
   "language": "python",
   "name": "python3"
  },
  "language_info": {
   "codemirror_mode": {
    "name": "ipython",
    "version": 3
   },
   "file_extension": ".py",
   "mimetype": "text/x-python",
   "name": "python",
   "nbconvert_exporter": "python",
   "pygments_lexer": "ipython3",
   "version": "3.13.7"
  }
 },
 "nbformat": 4,
 "nbformat_minor": 5
}
