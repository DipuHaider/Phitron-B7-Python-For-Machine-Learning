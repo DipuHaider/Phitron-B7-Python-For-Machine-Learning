{
 "cells": [
  {
   "cell_type": "code",
   "execution_count": 4,
   "id": "a3380119",
   "metadata": {},
   "outputs": [
    {
     "name": "stdout",
     "output_type": "stream",
     "text": [
      "Its raining\n",
      "Caution\n",
      "Its muddy\n"
     ]
    }
   ],
   "source": [
    "raining = True\n",
    "muddy = True\n",
    "\n",
    "if raining == True:\n",
    "    print(\"Its raining\")\n",
    "    print(\"Caution\")\n",
    "    if muddy == True:\n",
    "        print(\"Its muddy\")\n",
    "    else:\n",
    "        print(\"Its not muddy\")\n",
    "else:\n",
    "    print(\"Its not raining\")\n",
    "    print(\"This is a sunny day\")"
   ]
  },
  {
   "cell_type": "code",
   "execution_count": 5,
   "id": "51e7733e",
   "metadata": {},
   "outputs": [
    {
     "name": "stdout",
     "output_type": "stream",
     "text": [
      "tour\n"
     ]
    }
   ],
   "source": [
    "taka = 1000\n",
    "\n",
    "if taka > 500:\n",
    "    print(\"tour\")\n",
    "elif taka > 400:\n",
    "    print(\"online order\")\n",
    "elif taka > 300:\n",
    "    print(\"food court\")\n",
    "else:\n",
    "    print(\"save money\")"
   ]
  },
  {
   "cell_type": "code",
   "execution_count": 7,
   "id": "90fb916e",
   "metadata": {},
   "outputs": [
    {
     "name": "stdout",
     "output_type": "stream",
     "text": [
      "save money\n"
     ]
    }
   ],
   "source": [
    "taka = 1000\n",
    "raining = True\n",
    "\n",
    "if (taka > 500) and (raining == False):\n",
    "    print(\"tour\")\n",
    "else:\n",
    "    print(\"save money\")"
   ]
  }
 ],
 "metadata": {
  "kernelspec": {
   "display_name": "Python 3",
   "language": "python",
   "name": "python3"
  },
  "language_info": {
   "codemirror_mode": {
    "name": "ipython",
    "version": 3
   },
   "file_extension": ".py",
   "mimetype": "text/x-python",
   "name": "python",
   "nbconvert_exporter": "python",
   "pygments_lexer": "ipython3",
   "version": "3.13.7"
  }
 },
 "nbformat": 4,
 "nbformat_minor": 5
}
